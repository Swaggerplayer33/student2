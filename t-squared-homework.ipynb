{
 "cells": [
  {
   "cell_type": "markdown",
   "metadata": {},
   "source": [
    "---\n",
    "comments: True\n",
    "layout: post\n",
    "toc: True\n",
    "title: Beneficial and Harmful Effects Team Teach\n",
    "description: Team Teach\n",
    "type: hacks\n",
    "courses: { \"compsci\": { \"week\": 2 } }\n",
    "---"
   ]
  },
  {
   "cell_type": "markdown",
   "metadata": {},
   "source": [
    "# 5.1 Beneficial and harmful effects \n",
    "\n",
    "## Beneficial and Harmful Effects of Technological Innovations\n",
    "\n",
    "- People are the driving force behind creating computing innovations.\n",
    "\n",
    "- Innovations are crafted with specific goals in mind. But they can have unforeseen consequences, both positive and negative.\n",
    "\n",
    "- A creator cant predict all the things that can be done with their innovation as there are so many things that could be done and as technology evolves, new uses are made\n",
    "\n",
    "<img src=\"https://i.ibb.co/rt82dN1/image-1.png\" alt=\"image-1\">"
   ]
  },
  {
   "cell_type": "markdown",
   "metadata": {},
   "source": [
    "# Dopamine\n",
    "\n",
    "## Postives\n",
    "- Social Connection: Social media platforms allow people to connect with friends and family, especially those who may be geographically distant. It facilitates communication, sharing of experiences, and staying updated on each other's lives.\n",
    "\n",
    "- Learning Opportunities: Many video games are designed to be educational and can enhance cognitive skills such as problem-solving, strategic thinking, and hand-eye coordination. Some games even incorporate historical or scientific elements, providing players with additional knowledge.\n",
    "\n",
    "- Creativity: Video games often stimulate creativity and imagination. Games with open-world exploration or creative building elements encourage players to think outside the box and express themselves in unique ways.\n",
    "\n",
    "- Community Building: Both video games and social media can foster a sense of community. Gamers often form online communities where they share tips, strategies, and experiences. Social media also allows people with common interests to connect and form communities.\n",
    "\n",
    "## Negatives\n",
    "\n",
    "- Anthony Rosner story.\n",
    "- Played up to 18 hours every single day and became extremely succesfull in world of warcraft but suffered in every other aspect of his life: school and relationships\n",
    "- Eventually quit gaming, became a succesful DJ, and created a documentary.\n"
   ]
  },
  {
   "cell_type": "markdown",
   "metadata": {},
   "source": [
    "# Example Beneficial and Corresponding Harmful Effects of Computing\n",
    "\n",
    "> Tik Tok\n",
    "- Postive: Platform for people to share their creativity and talents\n",
    "- Negative: \"Doom Scrolling\"\n",
    "\n",
    "\n",
    "<img src=\"https://i.ibb.co/7ysbjqD/image-2.png\" alt=\"image-2\">"
   ]
  },
  {
   "cell_type": "markdown",
   "metadata": {},
   "source": [
    "### Popcorn Hack 1\n",
    "\n",
    "What is an example of a computing innovation with unintended consequences, whether positive or negative?\n",
    "\n",
    "- ANSWER\n",
    "A computing innovation with unintended consequences is ChatGPT. A benefit is that it can help you out when you have a question. The consequence however is that if you are trying to commit academic dishonesty with it, it will still help you, and you can cheat with it. "
   ]
  },
  {
   "cell_type": "markdown",
   "metadata": {},
   "source": [
    "\n",
    "## Mitigating Risks/Responsiblity\n",
    "\n",
    "- Targeted advertising, machine learning, and data mining are all good exampels of how unintended uses can have both positive and negative effecs\n",
    "\n",
    "- Even though it is impossible to predict all possibilities, a responsible programmer's goal it to forsee and prevent any unintended/negative uses and effects\n",
    "\n",
    "- Rapid sharing of a program can lead to events outside the creators control\n",
    "\n"
   ]
  },
  {
   "cell_type": "markdown",
   "metadata": {},
   "source": [
    "### Popcorn Hack 2\n",
    "\n",
    "How can responsible programming help contribute to minimizing unintended harmful impacts?\n",
    "\n",
    "- ANSWER\n",
    "Responsible programming leads to products like GPTZero, which works to detect work done by AI. This can help you get caught if you plagiarized an assignment. \n"
   ]
  },
  {
   "cell_type": "markdown",
   "metadata": {},
   "source": [
    "## Finding Balance\n",
    "\n",
    "- Finding a balance between innovation and responsibility is important\n",
    "\n",
    "- Programmers shape the impact of their creations on society.\n",
    "\n",
    "- Unintended uses of innovations may potentiallyhave harmful impacts on society\n",
    "\n",
    "- While negative effects could occur, Innovations often bring unintended benefits by helping advance the current states of technology.\n",
    "\n",
    "<img src=\"https://i.ibb.co/sRXLQp4/image-5.png\" alt=\"image-5\">\n"
   ]
  },
  {
   "cell_type": "markdown",
   "metadata": {},
   "source": [
    "### Popcorn Hack 3\n",
    "Why is it important for programmers to consider the unintended consequences of their innovations? \n",
    "- ANSWER\n",
    "Its important to consider the consequences because their product could be harmful for them and the people. For a video game, the people playing could get addicted, and with excess players, the developer's servers could crash. "
   ]
  },
  {
   "cell_type": "markdown",
   "metadata": {},
   "source": [
    "### Bonus Hack(0.05 extra points)\n",
    "Self Reflect on your use of technology? Whats your daily screen time? What beneficial effects of technology do you utilize and what are some negative consequences you succcumb to?\n",
    "- ANSWER\n",
    "My daily screen time is around  50 minutes a day. .A lot of this is because I need to facetime my piano teacher a couple of times per week, leading to increased screen time. I also use discord to chat with my friends. A negative consequence is that occassionally I spend too much time on my phone. \n"
   ]
  },
  {
   "cell_type": "markdown",
   "metadata": {},
   "source": [
    "### Homework\n",
    "- Choose an innovation(Social media, computers, phones, etc.) and talk about an alternative use than what its actually use for. Then, give the potential positive and negative impacts of the use you came up with\n",
    "\n",
    "> - ANSWER\n",
    "\n",
    "Instagram - People can post things about their lives. An alternative is to use it to raise money for a good cause. One of my friends manages a temple's instagram and raises money for it. The positive impact of this is that it raises money for the temple to buy new idols. And a negative impact is that the posts could gain hate comments, leading to discouragement. \n",
    "\n",
    "\n",
    "- How might you as a programmer implement code that helps your program have less unintented risks.\n",
    "\n",
    "> - ANSWER\n",
    "\n",
    "I could talk with others and think deeply of the effects of my code. When brainstorming, I could create code that would prevent the negative consequences that I brainstormed. This way, my code will have less consequences\n"
   ]
  }
 ],
 "metadata": {
  "kernelspec": {
   "display_name": "Python 3",
   "language": "python",
   "name": "python3"
  },
  "language_info": {
   "codemirror_mode": {
    "name": "ipython",
    "version": 3
   },
   "file_extension": ".py",
   "mimetype": "text/x-python",
   "name": "python",
   "nbconvert_exporter": "python",
   "pygments_lexer": "ipython3",
   "version": "3.9.2"
  }
 },
 "nbformat": 4,
 "nbformat_minor": 2
}
