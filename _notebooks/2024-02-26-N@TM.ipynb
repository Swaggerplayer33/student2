{
 "cells": [
  {
   "cell_type": "markdown",
   "metadata": {},
   "source": [
    "---\n",
    "comments: True\n",
    "layout: post\n",
    "toc: True\n",
    "title: N@TM Review\n",
    "description: This is my reflection for N@TM\n",
    "type: tangibles\n",
    "courses: { \"compsci\": { \"week\": 9 } }\n",
    "---"
   ]
  },
  {
   "cell_type": "markdown",
   "metadata": {},
   "source": [
    "**Here is the overview of this blog**\n",
    "-reflection on glows/grows from your demo,\n",
    "from feedback, something you will add to individual CPT project\n",
    "visuals or pics of team and people you talked\n"
   ]
  },
  {
   "cell_type": "markdown",
   "metadata": {},
   "source": [
    "**Reflection on Glows/Glows from my demo**\n",
    "\n",
    "Glows:\n",
    "During the demonstration at the N@TM event, one of the glows was that we finally filled the database. Earlier, it was pretty empty, but after N@TM, the jobfinder was becoming more applicative. Similarly, a lot of people also liked the about page, which had the parallax effect. This was visually appealing and it captivated users.  We also arrived early to watch a couple of people demo, to get an idea of how we should present.\n",
    "\n",
    "Grows:\n",
    "During the demo, it was helpful to get feedback from others. However, many people felt like the process to sign up, login, and find jobs was quite complicated. This is because there wree many pages that had to be completed to finish the process. It was easier for us to code this more complicated process, but next time we will remember to try to make the jobfinder simpler. So that it is easier for the users, rather than for the coders. \n",
    "\n",
    "\n"
   ]
  }
 ],
 "metadata": {
  "language_info": {
   "name": "python"
  }
 },
 "nbformat": 4,
 "nbformat_minor": 2
}
