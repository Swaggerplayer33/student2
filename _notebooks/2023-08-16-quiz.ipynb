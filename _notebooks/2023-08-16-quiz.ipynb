{
 "cells": [
  {
   "cell_type": "markdown",
   "metadata": {},
   "source": [
    "---\n",
    "toc: true\n",
    "comments: false\n",
    "layout: post\n",
    "title: My quiz!\n",
    "description: A quiz I made in order to test your computer science knowledge!\n",
    "type: tangibles\n",
    "courses: { compsci: {week: 2} }\n",
    "---\n",
    "\n"
   ]
  },
  {
   "cell_type": "code",
   "execution_count": null,
   "metadata": {},
   "outputs": [],
   "source": [
    "import sys\n",
    "\n",
    "y_n = str(input(\"Would you like to take this quis on computer science? y/n\"))\n",
    "\n",
    "if y_n == \"n\"():\n",
    "    sys.exit\n",
    "else:\n",
    "    print(\"This quiz has 5 questions\") \n",
    "    question1 = \"What does the linux function cd do? Answer in all lowercase with a space\"\n",
    "    answer1 = \"change directory\"\n",
    "    question2 = \"What is the command for running your website through vscode/linux terminal? Answer with all lowercase\"\n",
    "    answer2 = \"make\"\n",
    "    question3 = \"What is the filetype of your website's homepage?\"\n",
    "    answer3 = \".md\"\n",
    "    Question4 = \"What does .ipynb stand for? All lowercase\"\n",
    "    answer4 = \"interactive python notebook\"\n",
    "    Question5 = \"What does .md stand for?\"\n",
    "    answer5 = \"markdown\"\n",
    "\n",
    "    answer11 = str(input(\"Question: \" + question1))\n",
    "    if answer1 == answer11():\n",
    "        print(\"Congratulations! You got this question correct :)\")\n",
    "    else: \n",
    "        print(\"Unfortunately your answer is incorrect :(\")\n",
    "\n",
    "    answer22 = str(input(\"Question: \" + question2))\n",
    "    if answer2 == answer22():\n",
    "        print(\"Congratulations! You got this question correct :)\")\n",
    "    else: \n",
    "        print(\"Unfortunately your answer is incorrect :(\")\n",
    "\n",
    "    answer33 = str(input(\"Question: \" + question3))\n",
    "    if answer3 == answer33():\n",
    "        print(\"Congratulations! You got this question correct :)\")\n",
    "    else: \n",
    "        print(\"Unfortunately your answer is incorrect :(\")\n",
    "    \n",
    "    answer44 = str(input(\"Question: \" + question2))\n",
    "    if answer4 == answer44():\n",
    "        print(\"Congratulations! You got this question correct :)\")\n",
    "    else: \n",
    "        print(\"Unfortunately your answer is incorrect :(\")\n",
    "\n",
    "    answer55 = str(input(\"Question: \" + question2))\n",
    "    if answer5 == answer55():\n",
    "        print(\"Congratulations! You got this question correct :)\")\n",
    "    else: \n",
    "        print(\"Unfortunately your answer is incorrect :(\")\n",
    "\n",
    "    print(\"Thank you for playing this quiz!!\")\n"
   ]
  }
 ],
 "metadata": {
  "language_info": {
   "name": "python"
  },
  "orig_nbformat": 4
 },
 "nbformat": 4,
 "nbformat_minor": 2
}
