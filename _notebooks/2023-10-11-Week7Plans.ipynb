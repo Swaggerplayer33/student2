{
 "cells": [
  {
   "cell_type": "markdown",
   "metadata": {},
   "source": [
    "---\n",
    "toc: true\n",
    "comments: true\n",
    "layout: post\n",
    "title: Week 7 Plans\n",
    "description: These are my plans for the week\n",
    "type: hacks\n",
    "courses: {compsci: {week: 7}}\n",
    "---\n",
    "\n",
    "##Plans for the week\n",
    "\n",
    "- Get more cars added to our website\n",
    "- Implement a search bar feature\n",
    "- Get started on our API\n",
    "- Implement our cars slider view\n",
    "- Get some blogs in our website"
   ]
  }
 ],
 "metadata": {
  "language_info": {
   "name": "python"
  }
 },
 "nbformat": 4,
 "nbformat_minor": 2
}
