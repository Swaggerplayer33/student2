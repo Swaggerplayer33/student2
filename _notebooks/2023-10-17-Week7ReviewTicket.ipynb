{
 "cells": [
  {
   "cell_type": "markdown",
   "metadata": {},
   "source": [
    "---\n",
    "toc: true\n",
    "comments: true\n",
    "layout: post\n",
    "title: Week 7 Review Ticket\n",
    "description: These are all of my tasks for week 7\n",
    "type: tangibles\n",
    "courses: {compsci: {week: 7}}\n",
    "---\n",
    "\n",
    "**Week 7 Review Ticket:**\n",
    "- Did AWS backend deployment\n",
    "- Did our lesson \n",
    "- Finished grading our lesson\n",
    "- Implemented a timebox page in our website\n",
    "- Went for PP Ideation checkpoint"
   ]
  },
  {
   "cell_type": "code",
   "execution_count": null,
   "metadata": {},
   "outputs": [],
   "source": []
  }
 ],
 "metadata": {
  "language_info": {
   "name": "python"
  }
 },
 "nbformat": 4,
 "nbformat_minor": 2
}
