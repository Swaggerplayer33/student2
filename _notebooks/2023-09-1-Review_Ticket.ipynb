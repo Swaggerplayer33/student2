{
 "cells": [
  {
   "cell_type": "markdown",
   "metadata": {},
   "source": [
    "---\n",
    "comments: true\n",
    "layout: post\n",
    "title: Review Ticket\n",
    "description: My accomplishments throughout the week\n",
    "type: tangibles\n",
    "courses: { compsci: {week: 2} }"
   ]
  },
  {
   "cell_type": "code",
   "execution_count": null,
   "metadata": {
    "vscode": {
     "languageId": "plaintext"
    }
   },
   "outputs": [],
   "source": [
    " These are my accomplishments this week:\n",
    " -Created a new student repository url\n",
    " -Created my own python quiz\n",
    " -Transferred all files from old repo to new repo\n",
    " -Added Snake game to my blog\n",
    " -Added Game of Life to my blogs\n",
    " -I learned how to commit changes in a more efficient way"
   ]
  }
 ],
 "metadata": {
  "language_info": {
   "name": "python"
  },
  "orig_nbformat": 4
 },
 "nbformat": 4,
 "nbformat_minor": 2
}
