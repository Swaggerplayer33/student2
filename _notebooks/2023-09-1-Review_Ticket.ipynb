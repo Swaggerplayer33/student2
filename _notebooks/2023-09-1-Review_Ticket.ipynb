{
 "cells": [
  {
   "cell_type": "markdown",
   "metadata": {},
   "source": [
    "---\n",
    "comments: true\n",
    "layout: post\n",
    "title: Review Ticket\n",
    "description: My accomplishments throughout the week\n",
    "type: tangibles\n",
    "courses: { compsci: {week: 2} }"
   ]
  },
  {
   "cell_type": "code",
   "execution_count": null,
   "metadata": {},
   "outputs": [],
   "source": [
    "print(\"These are my accomplishments this week:\")\n",
    "print(\"-Created a new student repository url\")\n",
    "print(\"-Created my own python quiz\")\n",
    "print(\"-Transferred all files from old repo to new repo\")\n",
    "print(\"-Added Snake game to my blog\")\n",
    "print(\"-Added Game of Life to my blogs\")\n",
    "print(\"-I learned how to commit changes in a more efficient way\")"
   ]
  }
 ],
 "metadata": {
  "kernelspec": {
   "display_name": "Python 3",
   "language": "python",
   "name": "python3"
  },
  "language_info": {
   "name": "python",
   "version": "3.9.2"
  },
  "orig_nbformat": 4
 },
 "nbformat": 4,
 "nbformat_minor": 2
}
