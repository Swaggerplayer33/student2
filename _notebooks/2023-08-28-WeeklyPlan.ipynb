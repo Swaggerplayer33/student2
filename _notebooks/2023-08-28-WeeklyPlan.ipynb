{
 "cells": [
  {
   "cell_type": "markdown",
   "metadata": {},
   "source": [
    "---\n",
    "toc: true\n",
    "comments: true\n",
    "layout: post\n",
    "title: Weekly Plan\n",
    "description: My Weekly Plan\n",
    "type: plans\n",
    "courses: { csp: {week: 1, categories: [4.A]}}\n",
    "---"
   ]
  }
 ],
 "metadata": {
  "language_info": {
   "name": "python"
  },
  "orig_nbformat": 4
 },
 "nbformat": 4,
 "nbformat_minor": 2
}
