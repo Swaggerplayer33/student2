{
 "cells": [
  {
   "cell_type": "markdown",
   "metadata": {},
   "source": [
    "---\n",
    "toc: true\n",
    "comments: true\n",
    "layout: post\n",
    "title: Week 8 Plans\n",
    "description: These are my plans for week 8\n",
    "type: plans\n",
    "courses: {compsci: {week: 8}}\n",
    "---"
   ]
  },
  {
   "cell_type": "markdown",
   "metadata": {},
   "source": [
    "**Plans for week 8:**\n",
    "- Get our API working\n",
    "- Work on our lesson on Developing Algorithms\n",
    "- Fix up minor issues like the images\n",
    "- Add a blogs page to website"
   ]
  }
 ],
 "metadata": {
  "language_info": {
   "name": "python"
  }
 },
 "nbformat": 4,
 "nbformat_minor": 2
}
