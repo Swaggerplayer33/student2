{
 "cells": [
  {
   "cell_type": "markdown",
   "metadata": {},
   "source": [
    "---\n",
    "toc: true\n",
    "comments: true\n",
    "layout: post\n",
    "title: Car API\n",
    "description: This is my work on the car api\n",
    "type: hacks\n",
    "courses: {compsci: {week: 7}}\n",
    "---"
   ]
  },
  {
   "cell_type": "markdown",
   "metadata": {},
   "source": [
    "This week we were finally able to get the API done! Me, the devops, and Aditya D, the back end, worked on this get get it working. Initially we tried to use a csv file and have our API acces data from that file, but we were never able to get this to work. So, we made our own api with our own database. \n",
    "\n",
    "Our API has a model, and an API file itself. Below is the API model: "
   ]
  },
  {
   "cell_type": "code",
   "execution_count": null,
   "metadata": {},
   "outputs": [],
   "source": [
    "from __init__ import db\n",
    "\n",
    "# Define the \"Car\" model\n",
    "class Car(db.Model):\n",
    "    # Define the table name in the database\n",
    "    __tablename__ = \"Car\"\n",
    "\n",
    "    # This defines all of the attributes of a car that we will display\n",
    "    id = db.Column(db.Integer, primary_key=True)  \n",
    "    make = db.Column(db.String, nullable=False)\n",
    "    model = db.Column(db.String, nullable=False)\n",
    "    year = db.Column(db.String, nullable=False)\n",
    "    fuel = db.Column(db.String, nullable=False)\n",
    "    cylinders = db.Column(db.String, nullable=False)\n",
    "\n",
    "    # Constructor to initialize a new car object\n",
    "    def __init__(self, make, model, year, fuel, cylinders):\n",
    "        self.make = make #initialize make\n",
    "        self.model = model #initialize model\n",
    "        self.year = year #initialize year\n",
    "        self.fuel = fuel #initialize fuel\n",
    "        self.cylinders = cylinders #initialize cylinders\n",
    "\n",
    "    def to_dict(self):\n",
    "        return {\"make\": self.make, \"model\": self.model, \"year\": self.year, \"fuel\": self.fuel, \"cylinders\": self.cylinders}\n",
    "    # Create method to let users add a song to the DB\n",
    "    def create(self):\n",
    "        try:\n",
    "            db.session.add(self)  # add prepares to persist object to table\n",
    "            db.session.commit()  # SQLAlchemy requires a manual commit to get it working\n",
    "            return self\n",
    "        except: \n",
    "            db.session.remove() # remove object from table if invalid, if the car doesn't exist, then the car is removed. \n",
    "            return None\n",
    "\n",
    "    # Method to return car details for API response\n",
    "    def read(self):\n",
    "        return {\n",
    "            \"id\": self.id,\n",
    "            \"make\": self.make,\n",
    "            \"model\": self.model,\n",
    "            \"year\": self.year,\n",
    "            \"fuel\": self.fuel,\n",
    "            \"cylinders\": self.cylinders\n",
    "        }\n",
    "\n",
    "def initCars(): #This is the library full of cars and their attributes\n",
    "    BugattiChiron = Car(make=\"Bugatti\", model=\"Chiron\", year=\"2021\", fuel=\"Gas\", cylinders=\"16\"); db.session.add(BugattiChiron)\n",
    "    TeslaRoadster = Car(make=\"Tesla\", model=\"Roadster\", year=\"2024\", fuel=\"Electricity\", cylinders=\"None\"); db.session.add(TeslaRoadster)\n",
    "    RollsRoycePhantom = Car(make=\"Rolls Royce\", model=\"Phantom\", year=\"2021\", fuel=\"Gas\", cylinders=\"8\"); db.session.add(RollsRoycePhantom)\n",
    "    MercedesBenzGClass = Car(make=\"Mercedes Benz\", model=\"G Class\", year=\"2022\", fuel=\"Gas\", cylinders=\"10\"); db.session.add(MercedesBenzGClass)\n",
    "    AstonMartinDB11 = Car(make=\"Aston Martin\", model=\"DB11\", year=\"2023\", fuel=\"Gas\", cylinders=\"14\"); db.session.add(AstonMartinDB11)\n",
    "    Ferrari488GTB = Car(make=\"Ferrari\", model=\"488GTB\", year=\"2023\", fuel=\"Gas\", cylinders=\"9\"); db.session.add(Ferrari488GTB)\n",
    "    BentleyContinentalGT = Car(make=\"Bentley\", model=\"Continental GT\", year=\"2023\", fuel=\"Gas\", cylinders=\"10\"); db.session.add(BentleyContinentalGT)\n",
    "    Porsche911Targa = Car(make=\"Porsche\", model=\"911 Targa\", year=\"2023\", fuel=\"Gas\", cylinders=\"8\"); db.session.add(Porsche911Targa)\n",
    "    McLaren720S = Car(make=\"McLaren\", model=\"720 S\", year=\"2024\", fuel=\"Gas\", cylinders=\"6\"); db.session.add(McLaren720S)\n",
    "    MaseratiQuattroporte = Car(make=\"Maserati\", model=\"Quattroporte\", year=\"2021\", fuel=\"CNG\", cylinders=\"None\"); db.session.add(MaseratiQuattroporte)\n",
    "    AudiR8Spyder = Car(make=\"Audi\", model=\"R8 Spyder\", year=\"2022\", fuel=\"Hydrogen Powered\", cylinders=\"8\"); db.session.add(AudiR8Spyder)\n",
    "    MercedesBenz300SLGullwing = Car(make=\"Mercedes Benz\", model=\"300 SL Gullwing\", year=\"2021\", fuel=\"Gas\", cylinders=\"6\"); db.session.add(MercedesBenz300SLGullwing)\n",
    "    Ferrari250GTCalifornia = Car(make=\"Ferrari\", model=\"250 GT California\", year=\"2023\", fuel=\"Gas\", cylinders=\"8\"); db.session.add(Ferrari250GTCalifornia)\n",
    "    BentleyFlyingSpur = Car(make=\"Bentley\", model=\"Flying Spur\", year=\"2021\", fuel=\"Gas\", cylinders=\"4\"); db.session.add(BentleyFlyingSpur)\n",
    "    AudiA8 = Car(make=\"Audi\", model=\"A8\", year=\"2022\", fuel=\"Gas\", cylinders=\"8\"); db.session.add(AudiA8)\n",
    "    JaguarFType = Car(make=\"Jaguar\", model=\"F-Type\", year=\"2020\", fuel=\"Gas\", cylinders=\"10\"); db.session.add(JaguarFType)\n",
    "    LamborghiniHuracan = Car(make=\"Lamborghini\", model=\"Huracan\", year=\"2024\", fuel=\"Hydrogen Powered\", cylinders=\"12\"); db.session.add(LamborghiniHuracan)\n",
    "    RivianR1S = Car(make=\"Rivian\", model=\"R1S\", year=\"2023\", fuel=\"Electricity\", cylinders=\"None\"); db.session.add(RivianR1S)\n",
    "    MercedesBenzMaybachSClass = Car(make=\"Mercedes Benz\", model=\"Maybach S Class\", year=\"2022\", fuel=\"Gas\", cylinders=\"6\"); db.session.add(MercedesBenzMaybachSClass)\n",
    "    BMW7Series = Car(make=\"BMW\", model=\"7 Series\", year=\"2021\", fuel=\"Hydrogen Powered\", cylinders=\"8\"); db.session.add(BMW7Series)\n",
    "    LincolnContinental = Car(make=\"Lincoln\", model=\"Continental\", year=\"2020\", fuel=\"Gas\", cylinders=\"4\"); db.session.add(LincolnContinental)\n",
    "    RivianR1T = Car(make=\"Rivian\", model=\"R1T\", year=\"2022\", fuel=\"Electricity\", cylinders=\"None\"); db.session.add(RivianR1T)\n",
    "    db.session.commit()\n"
   ]
  },
  {
   "cell_type": "markdown",
   "metadata": {},
   "source": [
    "Overall in the model, we basically defined the attributes of the car and then we added them to a method called initCars(). When a user searches up a car, the program searches through initCars in order to find the corresponding car and display the information about the car. One of the key issues that I faced when creating this API model was regarding the initCars method. In this method, I did not add db.session.add(carname) at the end of each car, and this stumped me a lot. However, after getting help form a few peers, I found out that I needed t oadd this line. What is basically does is it adds the car to the actual database and it kind of activates it. "
   ]
  }
 ],
 "metadata": {
  "language_info": {
   "name": "python"
  }
 },
 "nbformat": 4,
 "nbformat_minor": 2
}
