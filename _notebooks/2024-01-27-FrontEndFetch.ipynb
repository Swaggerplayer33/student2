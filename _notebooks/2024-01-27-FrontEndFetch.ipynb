{
 "cells": [
  {
   "cell_type": "markdown",
   "metadata": {},
   "source": [
    "---\n",
    "comments: True\n",
    "layout: post\n",
    "toc: True\n",
    "title: Flask Api Methods and Models Team Teach\n",
    "description: Flask Api Methods and Models Team Teach\n",
    "type: hacks\n",
    "courses: { \"compsci\": { \"week\": 19 } }\n",
    "---"
   ]
  },
  {
   "cell_type": "markdown",
   "metadata": {},
   "source": [
    "# My Website Login\n",
    "\n",
    "Please sign in to access the rest of the website.\n",
    "\n",
    "## Login Form\n",
    "\n",
    "```html\n",
    "<form id=\"loginForm\">\n",
    "    <label for=\"username\">Username:</label>\n",
    "    <input type=\"text\" id=\"username\" name=\"username\" required>\n",
    "\n",
    "    <label for=\"password\">Password:</label>\n",
    "    <input type=\"password\" id=\"password\" name=\"password\" required>\n",
    "\n",
    "    <button type=\"button\" onclick=\"login()\">Sign In</button>\n",
    "</form>\n",
    "\n",
    "<script>\n",
    "function login() {\n",
    "    const username = document.getElementById('username').value;\n",
    "    const password = document.getElementById('password').value;\n",
    "\n",
    "    // Define the API endpoint\n",
    "    const apiUrl = '/api/login';\n",
    "\n",
    "    // Prepare the data to be sent\n",
    "    const data = {\n",
    "        username: username,\n",
    "        password: password\n",
    "    };\n",
    "\n",
    "    // Make a POST request using the Fetch API\n",
    "    fetch(apiUrl, {\n",
    "        method: 'POST',\n",
    "        headers: {\n",
    "            'Content-Type': 'application/json'\n",
    "        },\n",
    "        body: JSON.stringify(data)\n",
    "    })\n",
    "    .then(response => response.json())\n",
    "    .then(data => {\n",
    "        // Handle the response from the server\n",
    "        console.log(data);\n",
    "        // You can redirect to another page or perform additional actions based on the response\n",
    "    })\n",
    "    .catch(error => {\n",
    "        console.error('Error:', error);\n",
    "    });\n",
    "}\n",
    "</script>\n"
   ]
  }
 ],
 "metadata": {
  "language_info": {
   "name": "python"
  }
 },
 "nbformat": 4,
 "nbformat_minor": 2
}
