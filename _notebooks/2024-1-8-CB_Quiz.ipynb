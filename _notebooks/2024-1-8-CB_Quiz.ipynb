{
 "cells": [
  {
   "cell_type": "markdown",
   "metadata": {},
   "source": [
    "---\n",
    "toc: true\n",
    "comments: true\n",
    "layout: post\n",
    "title: College Board Quiz \n",
    "description: College Board Quiz reflection\n",
    "type: tangibles\n",
    "courses: { compsci: {week: 16} }\n",
    "---"
   ]
  },
  {
   "cell_type": "markdown",
   "metadata": {},
   "source": [
    "## My Reflection for the CollegeBoard Quiz\n",
    "\n",
    "**My score: 60/67**\n",
    "\n",
    "One big thing that I realized was that most of the concepts on the quiz were concepts that were taught in team teaches. "
   ]
  },
  {
   "cell_type": "markdown",
   "metadata": {},
   "source": [
    "Questions that I got wrong:\n",
    "\n",
    "Q5: Inputs to Logic Circuit\n",
    "How to Improve: Review the different types of logic gates (AND, OR, NOT).\n",
    "                Practice creating truth tables for given logic circuits.\n",
    "                Understand how logic gates are combined to perform specific operations.\n",
    "\n",
    "Q14: Comparing Loop Algorithms\n",
    "How to Improve: Refresh your understanding of loop algorithms (for, while, do-while).\n",
    "                Focus on time complexity analysis for loops.\n",
    "                Practice comparing the efficiency of loops in terms of computational cost.\n",
    "\n",
    "Q27: Guessing a Secret Number\n",
    "How to Improve: Explore optimal guessing strategies, such as binary search.\n",
    "                Understand how to narrow down possibilities efficiently.\n",
    "                Practice applying different guessing algorithms to numerical problems.\n",
    "\n",
    "Q37: Comparing Code Segments to Compute Average From List:\n",
    "How to Improve: Review the basics of computing averages from a list.\n",
    "                Pay attention to code logic and syntax for average calculations.\n",
    "                Practice implementing code segments to compute averages from lists.\n",
    "\n",
    "Q47: Encrypting and Decrypting Using Public Key Cryptography\n",
    "How to Improve: Gain a solid understanding of public key cryptography principles.\n",
    "                Familiarize yourself with encryption and decryption processes.\n",
    "                Practice working with public and private keys in encryption algorithms.\n",
    "\n",
    "Q48: Science Experiment With 75 Percent Successful Trials\n",
    "How to Improve: Review basic probability concepts and experimental outcomes.\n",
    "                Practice calculating percentages and proportions in experimental settings.\n",
    "                Focus on understanding the relationship between successful trials and overall experiment outcomes."
   ]
  }
 ],
 "metadata": {
  "language_info": {
   "name": "python"
  }
 },
 "nbformat": 4,
 "nbformat_minor": 2
}
