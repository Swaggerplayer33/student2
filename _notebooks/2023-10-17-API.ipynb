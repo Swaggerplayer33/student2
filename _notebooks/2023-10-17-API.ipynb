{
 "cells": [
  {
   "cell_type": "markdown",
   "metadata": {},
   "source": [
    "---\n",
    "toc: true\n",
    "comments: true\n",
    "layout: post\n",
    "title: API file\n",
    "description: The other API blog was about the model, this one is about the api file itself\n",
    "type: hacks\n",
    "courses: {compsci: {week: 7}}\n",
    "---"
   ]
  },
  {
   "cell_type": "markdown",
   "metadata": {},
   "source": [
    "While the other blog focused on our API's model file, this blog focuses on the actual API. Here is the code for our API: "
   ]
  },
  {
   "cell_type": "code",
   "execution_count": null,
   "metadata": {},
   "outputs": [],
   "source": [
    "from flask import Blueprint, jsonify, request\n",
    "from flask_restful import Api, Resource, reqparse\n",
    "from __init__ import db\n",
    "from model.cars import Car  # Import the car model\n",
    "import requests\n",
    "\n",
    "# Create a Blueprint for the car API\n",
    "car_api = Blueprint('car_api', __name__, url_prefix='/api/car')\n",
    "\n",
    "# Create the API instance\n",
    "api = Api(car_api)\n",
    "\n",
    "class CarAPI:\n",
    "    class _Create(Resource):\n",
    "        def post(self):\n",
    "            # Get request JSON data\n",
    "            body = request.get_json()\n",
    "\n",
    "            # Extract car information\n",
    "            make = body.get('make')\n",
    "            model = body.get('model')\n",
    "            year = body.get('year')\n",
    "            fuel = body.get('fuel')\n",
    "            cylinders = body.get('cylinders')\n",
    "\n",
    "            # Create a new car object\n",
    "            car_obj = Car(make=make, model=model, year=year, fuel=fuel, cylinders=cylinders)\n",
    "\n",
    "#2: Key Code block to add car to database \n",
    "            # create car in database\n",
    "            car = car_obj.create()\n",
    "            # success returns json of car\n",
    "            if car:\n",
    "                return jsonify(car.read())\n",
    "            # failure returns error\n",
    "            return {'message': f'Invalid input, correct fields should be make, model, year, and fuel, cylinders'}, 400\n",
    "\n",
    "            \n",
    "    class _Read(Resource):\n",
    "        def get(self):\n",
    "        # Retrieve all cars from the database initCars\n",
    "            Cars = Car.query.all()\n",
    "            json_ready = [car.to_dict() for car in Cars]\n",
    "        # Return the JSON response\n",
    "            return jsonify(json_ready)\n",
    "\n",
    "    # building RESTapi resources/interfaces, these routes are added to Web Server\n",
    "    api.add_resource(_Create, '/create')\n",
    "    api.add_resource(_Read, '/')"
   ]
  },
  {
   "cell_type": "markdown",
   "metadata": {},
   "source": [
    "The first step to this was to get all of the correct imports. We imported blueprints, requests, and the car model itself. There are quite a few more imports but these ar ethe most important. Next, we established our car_api as a blueprint and added a url prefix. This basically made sure that when we opened our website, we could add /api/car, and it would show us our list of cars. This API took heavy inspiration from the jokes api that was provided by Mr. Mortenson. Next, we extracted the attributes of cars that we defined in the model, so that this data would be fetchable from the front end. Then we established a car object with each of the attributes defined. We added an error message here in case one of the cars did not have the right attributes defined. Finally, we added a get method in order t oretrieve data from the car database (initCars). The final step was to return the JSON response, which was done with a return message. "
   ]
  }
 ],
 "metadata": {
  "language_info": {
   "name": "python"
  }
 },
 "nbformat": 4,
 "nbformat_minor": 2
}
