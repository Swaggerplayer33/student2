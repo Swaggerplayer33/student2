{
 "cells": [
  {
   "cell_type": "markdown",
   "metadata": {},
   "source": [
    "---\n",
    "toc: true\n",
    "comments: true\n",
    "layout: post\n",
    "title: Collegeboard MC Quiz Corrections\n",
    "description: These are my college board mc quiz corrections \n",
    "type: hacks\n",
    "courses: {compsci: {week: 9}}\n",
    "---"
   ]
  },
  {
   "cell_type": "markdown",
   "metadata": {},
   "source": [
    "**Overall Quiz Score:**\n",
    "60/66"
   ]
  },
  {
   "cell_type": "markdown",
   "metadata": {},
   "source": [
    "**Things I looked up:**\n",
    "\n",
    "- Binary Search: I learned this during saaras's team teach, but needed a quick refresher on the difference between this and    linear search\n",
    "- Linear Search: Same reason as above\n",
    "- Wifi Routers and Devices: I had to look up what an IP adress was, there were multiple questions regarding "
   ]
  },
  {
   "cell_type": "code",
   "execution_count": null,
   "metadata": {},
   "outputs": [],
   "source": []
  }
 ],
 "metadata": {
  "language_info": {
   "name": "python"
  },
  "orig_nbformat": 4
 },
 "nbformat": 4,
 "nbformat_minor": 2
}
