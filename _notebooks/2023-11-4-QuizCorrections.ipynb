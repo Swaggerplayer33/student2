{
 "cells": [
  {
   "cell_type": "markdown",
   "metadata": {},
   "source": [
    "---\n",
    "toc: true\n",
    "comments: true\n",
    "layout: post\n",
    "title: Collegeboard MC Quiz Corrections\n",
    "description: These are my college board mc quiz corrections \n",
    "type: hacks\n",
    "courses: {compsci: {week: 9}}\n",
    "---"
   ]
  },
  {
   "cell_type": "markdown",
   "metadata": {},
   "source": [
    "**Overall Quiz Score:**\n",
    "60/66"
   ]
  },
  {
   "cell_type": "markdown",
   "metadata": {},
   "source": [
    "**Things I looked up:**\n",
    "\n",
    "- Binary Search: I learned this during Saaras's team teach, but needed a quick refresher on the difference between this and linear search\n",
    "- Linear Search: Same reason as above\n",
    "- Wifi Routers and Devices: I had to look up what an IP adress was, there were multiple questions regarding \n",
    "- Public and Private Key Cryptography: I had no idea what these were, so I had to look them up to understand\n",
    "<h1>-------------------------</h1>\n",
    "\n",
    "**Things To Improve:**\n",
    "- I should think through each question logically so that I can predict the output of a program before I even look at it\n"
   ]
  },
  {
   "cell_type": "markdown",
   "metadata": {},
   "source": [
    "**Questions I Got Wrong:**\n",
    "\n",
    "Q14: The answer is C\n",
    "    How To Improve: Think logically about the output that a program returns\n",
    "\n",
    "Q27: The answer is B\n",
    "    How To Improve: Think logically about where specific lines of code should be ordered. What order makes the most sense?\n",
    "\n",
    "Q37: The answer is C\n",
    "    How To Improve: Think logically about the output that a program returns\n",
    "\n",
    "Q47: The answer is D\n",
    "    How To Improve: Learn about public and private key cryptography\n",
    "\n",
    "Q48: The answer is D\n",
    "    How To Improve: Think logically about the output that a program returns"
   ]
  }
 ],
 "metadata": {
  "language_info": {
   "name": "python"
  },
  "orig_nbformat": 4
 },
 "nbformat": 4,
 "nbformat_minor": 2
}
