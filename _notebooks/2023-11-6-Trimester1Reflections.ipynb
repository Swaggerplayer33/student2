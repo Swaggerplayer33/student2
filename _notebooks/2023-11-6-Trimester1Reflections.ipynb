{
 "cells": [
  {
   "cell_type": "markdown",
   "metadata": {},
   "source": [
    "---\n",
    "toc: true\n",
    "comments: true\n",
    "layout: post\n",
    "title: Trimester 1 reflections\n",
    "description: My Trimester 1 reflections\n",
    "type: tangibles\n",
    "courses: {compsci: {week: 9}}\n",
    "---"
   ]
  },
  {
   "cell_type": "markdown",
   "metadata": {},
   "source": [
    "Overall, this trimester was full of learning and overall a fun experience. I learned many new things regarding HTML, Javascript, Python API's, and also CSS. Here are some of my takeaways this year:\n",
    "\n",
    "**Back End:**\n",
    "This trimester, I learned how to use AWS to deploy my own domain, choose my port, and deploy my back end repository. Before this, I didn't even know what a terminal was. I also learned how to use docker to build a website. \n",
    "\n",
    "Another key back end takeaway is coding APIs in python. I was able to make an API and model for my group that shows cars and their statistics. \n",
    "\n",
    "One final back end related thing I learned was using third party API's from rapidapi\n",
    "\n",
    "\n",
    "**Front End:**\n",
    "This trimester, I learned how to create a website's framework with HTML, do some fixes here and there with Javascript, and then make it beautiful with CSS. I learned how web development worked, and this was my first time trying it out. \n",
    "\n",
    "Another front end thing that I learned was to link my back end repo with the front end, and then using javascript fetch commands to access data. \n",
    "\n",
    "**In general takeaways:**\n",
    "Overall, I had a lot of fun in CSP. I learned how to collaborate better and also plan with a tight schedule. I was able to consult my peers for help when I needed it as well. \n",
    "Improving my teamwork skills in a programming environment is crucial for effective collaboration and project success. To excel in this context, I've learned the importance of open and clear communication with my team members. Regular discussions about ideas, progress, and challenges have proven essential. I've also realized the significance of being adaptable and flexible, being open to different perspectives and willing to compromise when necessary. Embracing version control and collaborative tools, like Git and GitHub, has made it easier to manage code efficiently and work concurrently with team members. Establishing coding standards and conventions is another practice I've embraced to maintain consistency in our projects. Lastly, I've made an effort to practice good documentation and comment my code thoroughly, making it easier for others to understand and work with my code. Developing my teamwork skills in programming not only fosters a positive working environment but also leads to higher-quality software development and more efficient project completion.\n",
    "\n",
    "**How I Improve In A Team:**\n",
    "Certainly, improving as a member of a developer team involves ongoing self-assessment and a commitment to growth. To enhance my contribution to the team, I can focus on a few key areas. Firstly, I can work on refining my problem-solving skills, seeking out complex challenges, and proactively solving them with creative solutions. Additionally, I can make an effort to develop a deeper understanding of the specific technologies and tools used by the team, ensuring that I'm proficient in the technologies relevant to our projects.\n",
    "\n",
    "Furthermore, I can put more emphasis on code quality and maintainability by following best practices, conducting code reviews, and participating in refactoring efforts. It's also crucial to become more proactive in sharing knowledge and mentorship, assisting newer team members and contributing to a culture of continuous learning.\n",
    "\n",
    "Another area for improvement is time management. I can enhance my ability to estimate project timelines accurately, plan my work effectively, and consistently meet deadlines. Effective project planning and delivery are essential for team success.\n",
    "\n",
    "Finally, I can work on improving my interpersonal and communication skills, fostering a collaborative and positive team environment. This includes better active listening, clear and concise communication, and empathy for my colleagues' viewpoints and needs.\n",
    "\n",
    "By concentrating on these areas, I can evolve into a more effective and valuable team member, contributing to the team's overall success in software development projects.\n"
   ]
  }
 ],
 "metadata": {
  "language_info": {
   "name": "python"
  }
 },
 "nbformat": 4,
 "nbformat_minor": 2
}
