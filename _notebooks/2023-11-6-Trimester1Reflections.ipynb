{
 "cells": [
  {
   "cell_type": "markdown",
   "metadata": {},
   "source": [
    "---\n",
    "toc: true\n",
    "comments: true\n",
    "layout: post\n",
    "title: Trimester 1 reflections\n",
    "description: My Trimester 1 reflections\n",
    "type: tangibles\n",
    "courses: {compsci: {week: 9}}\n",
    "---"
   ]
  },
  {
   "cell_type": "markdown",
   "metadata": {},
   "source": [
    "Overall, this trimester was full of learning and overall a fun experience. I learned many new things regarding HTML, Javascript, Python API's, and also CSS. Here are some of my takeaways this year:\n",
    "\n",
    "**Back End:**\n",
    "This trimester, I learned how to use AWS to deploy my own domain, choose my port, and deploy my back end repository. Before this, I didn't even know what a terminal was. I also learned how to use docker to build a website. \n",
    "\n",
    "Another key back end takeaway is coding APIs in python. I was able to make an API and model for my group that shows cars and their statistics. \n",
    "\n",
    "One final back end related thing I learned was using third party API's from rapidapi\n",
    "\n",
    "\n",
    "**Front End:**\n",
    "This trimester, I learned how to create a website's framework with HTML, do some fixes here and there with Javascript, and then make it beautiful with CSS. I learned how web development worked, and this was my first time trying it out. \n",
    "\n",
    "Another front end thing that I learned was to link my back end repo with the front end, and then using javascript fetch commands to access data. \n",
    "\n",
    "**In general takeaways:**\n",
    "Overall, I had a lot of fun in CSP. I learned how to collaborate better and also plan with a tight schedule. I was able to consult my peers for help when I needed it as well. \n"
   ]
  }
 ],
 "metadata": {
  "language_info": {
   "name": "python"
  }
 },
 "nbformat": 4,
 "nbformat_minor": 2
}
