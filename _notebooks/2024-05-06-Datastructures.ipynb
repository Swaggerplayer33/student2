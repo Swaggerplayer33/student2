{
 "cells": [
  {
   "cell_type": "markdown",
   "metadata": {},
   "source": [
    "---\n",
    "comments: true\n",
    "layout: post\n",
    "title: Data Structures Writeup\n",
    "description: This is my data structures writeup\n",
    "type: hacks\n",
    "courses: { compsci: {week: 5} }\n",
    "---"
   ]
  },
  {
   "cell_type": "markdown",
   "metadata": {},
   "source": [
    "\n",
    "Collections - Total ___ / 3, Grade __/\n",
    "\n",
    "Blog Python Model code and SQLite Database.\n",
    "Model:\n",
    "\n",
    "[model](https://private-user-images.githubusercontent.com/113000838/327182504-6190240a-5745-46be-9cfd-93e43620b32c.png?jwt=eyJhbGciOiJIUzI1NiIsInR5cCI6IkpXVCJ9.eyJpc3MiOiJnaXRodWIuY29tIiwiYXVkIjoicmF3LmdpdGh1YnVzZXJjb250ZW50LmNvbSIsImtleSI6ImtleTUiLCJleHAiOjE3MTUwNTUxMzcsIm5iZiI6MTcxNTA1NDgzNywicGF0aCI6Ii8xMTMwMDA4MzgvMzI3MTgyNTA0LTYxOTAyNDBhLTU3NDUtNDZiZS05Y2ZkLTkzZTQzNjIwYjMyYy5wbmc_WC1BbXotQWxnb3JpdGhtPUFXUzQtSE1BQy1TSEEyNTYmWC1BbXotQ3JlZGVudGlhbD1BS0lBVkNPRFlMU0E1M1BRSzRaQSUyRjIwMjQwNTA3JTJGdXMtZWFzdC0xJTJGczMlMkZhd3M0X3JlcXVlc3QmWC1BbXotRGF0ZT0yMDI0MDUwN1QwNDA3MTdaJlgtQW16LUV4cGlyZXM9MzAwJlgtQW16LVNpZ25hdHVyZT0wNWVkNzNjNTg3NjUxOTM4NmQ5NDJiYTUwNWExNTY0NWM5MThkZjVlMDZlYzZjNjdlOTNjZWNlY2E0NTA2MDMxJlgtQW16LVNpZ25lZEhlYWRlcnM9aG9zdCZhY3Rvcl9pZD0wJmtleV9pZD0wJnJlcG9faWQ9MCJ9.hx3JgiK0idzJHPMUt4KAXst283dL4Qf3Y28JGttB2xc)\n",
    "\n",
    "From VSCode using SQLite3 Editor, show your unique collection/table in database, display rows and columns in the table of the SQLite database.\n",
    "[database](https://private-user-images.githubusercontent.com/113000838/327182766-857b8b02-a765-46b5-badd-052de55e99c6.png?jwt=eyJhbGciOiJIUzI1NiIsInR5cCI6IkpXVCJ9.eyJpc3MiOiJnaXRodWIuY29tIiwiYXVkIjoicmF3LmdpdGh1YnVzZXJjb250ZW50LmNvbSIsImtleSI6ImtleTUiLCJleHAiOjE3MTUwNTcwNDksIm5iZiI6MTcxNTA1Njc0OSwicGF0aCI6Ii8xMTMwMDA4MzgvMzI3MTgyNzY2LTg1N2I4YjAyLWE3NjUtNDZiNS1iYWRkLTA1MmRlNTVlOTljNi5wbmc_WC1BbXotQWxnb3JpdGhtPUFXUzQtSE1BQy1TSEEyNTYmWC1BbXotQ3JlZGVudGlhbD1BS0lBVkNPRFlMU0E1M1BRSzRaQSUyRjIwMjQwNTA3JTJGdXMtZWFzdC0xJTJGczMlMkZhd3M0X3JlcXVlc3QmWC1BbXotRGF0ZT0yMDI0MDUwN1QwNDM5MDlaJlgtQW16LUV4cGlyZXM9MzAwJlgtQW16LVNpZ25hdHVyZT1iZjg5MmZiNzk5ZWQzOTc0MGRlMDcyOTI5ZjUxNWQ0ZWFhNWUyNjVlNTRhNzhmZGE5MGQ2OTg2OGJkY2ExZDQ4JlgtQW16LVNpZ25lZEhlYWRlcnM9aG9zdCZhY3Rvcl9pZD0wJmtleV9pZD0wJnJlcG9faWQ9MCJ9.l0n1DlUbCzDGhaxMVLJDzEgZIftjF43EEyD8wtG9ixA)\n",
    "\n",
    "From VSCode model, show your unique code that was created to initialize table and create test data.\n",
    "[initialize](https://private-user-images.githubusercontent.com/113000838/327182925-e75a4659-0bdf-4b9a-ac92-c0b1ec1daa57.png?jwt=eyJhbGciOiJIUzI1NiIsInR5cCI6IkpXVCJ9.eyJpc3MiOiJnaXRodWIuY29tIiwiYXVkIjoicmF3LmdpdGh1YnVzZXJjb250ZW50LmNvbSIsImtleSI6ImtleTUiLCJleHAiOjE3MTUwNTcwNDksIm5iZiI6MTcxNTA1Njc0OSwicGF0aCI6Ii8xMTMwMDA4MzgvMzI3MTgyOTI1LWU3NWE0NjU5LTBiZGYtNGI5YS1hYzkyLWMwYjFlYzFkYWE1Ny5wbmc_WC1BbXotQWxnb3JpdGhtPUFXUzQtSE1BQy1TSEEyNTYmWC1BbXotQ3JlZGVudGlhbD1BS0lBVkNPRFlMU0E1M1BRSzRaQSUyRjIwMjQwNTA3JTJGdXMtZWFzdC0xJTJGczMlMkZhd3M0X3JlcXVlc3QmWC1BbXotRGF0ZT0yMDI0MDUwN1QwNDM5MDlaJlgtQW16LUV4cGlyZXM9MzAwJlgtQW16LVNpZ25hdHVyZT0wZTc0ZmEwZDNkYjk4MzBkNTQ2Yjc4MmQ1YmIxMTVmMmE5ZjlkYjNiNGU3OGQ5Zjg1MTMyOWE2Mjg3YTYyOGYyJlgtQW16LVNpZ25lZEhlYWRlcnM9aG9zdCZhY3Rvcl9pZD0wJmtleV9pZD0wJnJlcG9faWQ9MCJ9.dtOnMUT1khIH0mgGiIHsmOK6cHRTm86OclcV7Yatij4)"
   ]
  },
  {
   "cell_type": "markdown",
   "metadata": {},
   "source": [
    "APIs and JSON\n",
    "\n",
    "In VSCode, show Python API code definition for request and response using GET, POST, UPDATE methods.\n",
    "[requests](https://private-user-images.githubusercontent.com/113000838/327183196-ec7b593a-5915-4eff-8195-f50615a0e99f.png?jwt=eyJhbGciOiJIUzI1NiIsInR5cCI6IkpXVCJ9.eyJpc3MiOiJnaXRodWIuY29tIiwiYXVkIjoicmF3LmdpdGh1YnVzZXJjb250ZW50LmNvbSIsImtleSI6ImtleTUiLCJleHAiOjE3MTUwNTcwNDksIm5iZiI6MTcxNTA1Njc0OSwicGF0aCI6Ii8xMTMwMDA4MzgvMzI3MTgzMTk2LWVjN2I1OTNhLTU5MTUtNGVmZi04MTk1LWY1MDYxNWEwZTk5Zi5wbmc_WC1BbXotQWxnb3JpdGhtPUFXUzQtSE1BQy1TSEEyNTYmWC1BbXotQ3JlZGVudGlhbD1BS0lBVkNPRFlMU0E1M1BRSzRaQSUyRjIwMjQwNTA3JTJGdXMtZWFzdC0xJTJGczMlMkZhd3M0X3JlcXVlc3QmWC1BbXotRGF0ZT0yMDI0MDUwN1QwNDM5MDlaJlgtQW16LUV4cGlyZXM9MzAwJlgtQW16LVNpZ25hdHVyZT1lMjcxNjYwYjliZTQwMmY0NjI3NTQxZDZlZTE4ZjA1MjZiYTI1Y2M2YWI5NWY3YzAyMDkzYmZmZjIwYTU0ZGI4JlgtQW16LVNpZ25lZEhlYWRlcnM9aG9zdCZhY3Rvcl9pZD0wJmtleV9pZD0wJnJlcG9faWQ9MCJ9.CnLo65CU_NNBdnX64HfTIBlgDq4NkHwo0jrDLpqdGqs)\n",
    "\n",
    "Discuss algorithmic condition used to direct request to appropriate Python method based on request method.\n",
    "[request](https://private-user-images.githubusercontent.com/113000838/327183536-08f9d722-56fb-4df4-922b-ba1778a81d98.png?jwt=eyJhbGciOiJIUzI1NiIsInR5cCI6IkpXVCJ9.eyJpc3MiOiJnaXRodWIuY29tIiwiYXVkIjoicmF3LmdpdGh1YnVzZXJjb250ZW50LmNvbSIsImtleSI6ImtleTUiLCJleHAiOjE3MTUwNTcwNDksIm5iZiI6MTcxNTA1Njc0OSwicGF0aCI6Ii8xMTMwMDA4MzgvMzI3MTgzNTM2LTA4ZjlkNzIyLTU2ZmItNGRmNC05MjJiLWJhMTc3OGE4MWQ5OC5wbmc_WC1BbXotQWxnb3JpdGhtPUFXUzQtSE1BQy1TSEEyNTYmWC1BbXotQ3JlZGVudGlhbD1BS0lBVkNPRFlMU0E1M1BRSzRaQSUyRjIwMjQwNTA3JTJGdXMtZWFzdC0xJTJGczMlMkZhd3M0X3JlcXVlc3QmWC1BbXotRGF0ZT0yMDI0MDUwN1QwNDM5MDlaJlgtQW16LUV4cGlyZXM9MzAwJlgtQW16LVNpZ25hdHVyZT03YTRmN2FkNTYwMGFhMTE5YzZkNDA4OGQ5YWJjMmQ5MTA2MzI2NTNlMWVmM2I1MTVjNjk1ZWY0Njg5YzJhYzMwJlgtQW16LVNpZ25lZEhlYWRlcnM9aG9zdCZhY3Rvcl9pZD0wJmtleV9pZD0wJnJlcG9faWQ9MCJ9.1vln-IMsvIpnYiEb2RRqDpQUp1ol8fIz98RYW30xbxg)\n",
    "\n",
    "In VSCode, show algorithmic conditions used to validate data on a POST condition\n",
    "[post](https://private-user-images.githubusercontent.com/113000838/327183646-626baea0-affb-43cf-9897-0f05c00fd07e.png?jwt=eyJhbGciOiJIUzI1NiIsInR5cCI6IkpXVCJ9.eyJpc3MiOiJnaXRodWIuY29tIiwiYXVkIjoicmF3LmdpdGh1YnVzZXJjb250ZW50LmNvbSIsImtleSI6ImtleTUiLCJleHAiOjE3MTUwNTcwNDksIm5iZiI6MTcxNTA1Njc0OSwicGF0aCI6Ii8xMTMwMDA4MzgvMzI3MTgzNjQ2LTYyNmJhZWEwLWFmZmItNDNjZi05ODk3LTBmMDVjMDBmZDA3ZS5wbmc_WC1BbXotQWxnb3JpdGhtPUFXUzQtSE1BQy1TSEEyNTYmWC1BbXotQ3JlZGVudGlhbD1BS0lBVkNPRFlMU0E1M1BRSzRaQSUyRjIwMjQwNTA3JTJGdXMtZWFzdC0xJTJGczMlMkZhd3M0X3JlcXVlc3QmWC1BbXotRGF0ZT0yMDI0MDUwN1QwNDM5MDlaJlgtQW16LUV4cGlyZXM9MzAwJlgtQW16LVNpZ25hdHVyZT1mMWI2MTUxOTZiZmFhODVkMjIyYjA1ZjkzMGRlZmE4MWNjYWRjYmUxYWE5MmJmNDE2NmQxN2MwYWUzN2MwY2EzJlgtQW16LVNpZ25lZEhlYWRlcnM9aG9zdCZhY3Rvcl9pZD0wJmtleV9pZD0wJnJlcG9faWQ9MCJ9.bq4MdVfjE0L85rQIS8qG3bQvOMja4QQmZie97JGypuc)\n",
    "\n",
    "In Postman, show URL request and Body requirements for GET, POST, and UPDATE methods.\n",
    "[get](https://private-user-images.githubusercontent.com/113000838/327185727-73dc69cc-8cc2-4306-bf00-9d6ddca887e0.png?jwt=eyJhbGciOiJIUzI1NiIsInR5cCI6IkpXVCJ9.eyJpc3MiOiJnaXRodWIuY29tIiwiYXVkIjoicmF3LmdpdGh1YnVzZXJjb250ZW50LmNvbSIsImtleSI6ImtleTUiLCJleHAiOjE3MTUwNTcwNDksIm5iZiI6MTcxNTA1Njc0OSwicGF0aCI6Ii8xMTMwMDA4MzgvMzI3MTg1NzI3LTczZGM2OWNjLThjYzItNDMwNi1iZjAwLTlkNmRkY2E4ODdlMC5wbmc_WC1BbXotQWxnb3JpdGhtPUFXUzQtSE1BQy1TSEEyNTYmWC1BbXotQ3JlZGVudGlhbD1BS0lBVkNPRFlMU0E1M1BRSzRaQSUyRjIwMjQwNTA3JTJGdXMtZWFzdC0xJTJGczMlMkZhd3M0X3JlcXVlc3QmWC1BbXotRGF0ZT0yMDI0MDUwN1QwNDM5MDlaJlgtQW16LUV4cGlyZXM9MzAwJlgtQW16LVNpZ25hdHVyZT0yNDEwMDk1ZTRmYWFkZDU0MjVlYzlhOTE1ODE2YjkxZmQxYTFkMmI5MmUzNmY2NDFkMjgzYmM1YmNkMjQ5MTM1JlgtQW16LVNpZ25lZEhlYWRlcnM9aG9zdCZhY3Rvcl9pZD0wJmtleV9pZD0wJnJlcG9faWQ9MCJ9.6kTZM_nJ3SzbksLFXlYSg5Kv3BxXMVTPNnrJ7hKbOKQ)\n",
    "[post](https://private-user-images.githubusercontent.com/113000838/327186283-9ff2616c-fbb1-436a-9e31-8fcb4e0c325b.png?jwt=eyJhbGciOiJIUzI1NiIsInR5cCI6IkpXVCJ9.eyJpc3MiOiJnaXRodWIuY29tIiwiYXVkIjoicmF3LmdpdGh1YnVzZXJjb250ZW50LmNvbSIsImtleSI6ImtleTUiLCJleHAiOjE3MTUwNTcwNDksIm5iZiI6MTcxNTA1Njc0OSwicGF0aCI6Ii8xMTMwMDA4MzgvMzI3MTg2MjgzLTlmZjI2MTZjLWZiYjEtNDM2YS05ZTMxLThmY2I0ZTBjMzI1Yi5wbmc_WC1BbXotQWxnb3JpdGhtPUFXUzQtSE1BQy1TSEEyNTYmWC1BbXotQ3JlZGVudGlhbD1BS0lBVkNPRFlMU0E1M1BRSzRaQSUyRjIwMjQwNTA3JTJGdXMtZWFzdC0xJTJGczMlMkZhd3M0X3JlcXVlc3QmWC1BbXotRGF0ZT0yMDI0MDUwN1QwNDM5MDlaJlgtQW16LUV4cGlyZXM9MzAwJlgtQW16LVNpZ25hdHVyZT0xNDU2ZmNjZGNhMDIxYTkzMTBmZmM0MmZhMmQxOThmZWZjZTdmNTNhNzU3YThiZGJhNjc3Njg1NjA1YTkyNDFjJlgtQW16LVNpZ25lZEhlYWRlcnM9aG9zdCZhY3Rvcl9pZD0wJmtleV9pZD0wJnJlcG9faWQ9MCJ9.QU8fEuVhIz_Wpgefo4DhOjE9Y06kHttfiReY_1T5EI8)"
   ]
  },
  {
   "cell_type": "markdown",
   "metadata": {},
   "source": [
    "Lists and Dictionaries\n",
    "Blog Python API code and use of List and Dictionaries.\n",
    "[dictionaries](https://private-user-images.githubusercontent.com/113000838/323323436-474732e9-a6b4-45a7-b247-339cf0526b77.png?jwt=eyJhbGciOiJIUzI1NiIsInR5cCI6IkpXVCJ9.eyJpc3MiOiJnaXRodWIuY29tIiwiYXVkIjoicmF3LmdpdGh1YnVzZXJjb250ZW50LmNvbSIsImtleSI6ImtleTUiLCJleHAiOjE3MTUwNTcwNDksIm5iZiI6MTcxNTA1Njc0OSwicGF0aCI6Ii8xMTMwMDA4MzgvMzIzMzIzNDM2LTQ3NDczMmU5LWE2YjQtNDVhNy1iMjQ3LTMzOWNmMDUyNmI3Ny5wbmc_WC1BbXotQWxnb3JpdGhtPUFXUzQtSE1BQy1TSEEyNTYmWC1BbXotQ3JlZGVudGlhbD1BS0lBVkNPRFlMU0E1M1BRSzRaQSUyRjIwMjQwNTA3JTJGdXMtZWFzdC0xJTJGczMlMkZhd3M0X3JlcXVlc3QmWC1BbXotRGF0ZT0yMDI0MDUwN1QwNDM5MDlaJlgtQW16LUV4cGlyZXM9MzAwJlgtQW16LVNpZ25hdHVyZT00MGRjYmE4NTllMDFlODJkMWE1MDYyYjY5NDA3MGJhZTAxMmViMjJhZjM0M2IyYzcwYmEzOTE0NzZkZGUwNzJkJlgtQW16LVNpZ25lZEhlYWRlcnM9aG9zdCZhY3Rvcl9pZD0wJmtleV9pZD0wJnJlcG9faWQ9MCJ9.YjNCBBi0-w5kHz5PH53syKcQREeuy_URwcgNytWQHLI)\n",
    "\n",
    "In VSCode use Debugger and list, show two distinct example examples of dictionaries, show Keys/Values using debugger.\n",
    "[objects](https://private-user-images.githubusercontent.com/113000838/327187956-57398e26-579c-4489-ad87-84fbc6e57b4d.png?jwt=eyJhbGciOiJIUzI1NiIsInR5cCI6IkpXVCJ9.eyJpc3MiOiJnaXRodWIuY29tIiwiYXVkIjoicmF3LmdpdGh1YnVzZXJjb250ZW50LmNvbSIsImtleSI6ImtleTUiLCJleHAiOjE3MTUwNTcwNDksIm5iZiI6MTcxNTA1Njc0OSwicGF0aCI6Ii8xMTMwMDA4MzgvMzI3MTg3OTU2LTU3Mzk4ZTI2LTU3OWMtNDQ4OS1hZDg3LTg0ZmJjNmU1N2I0ZC5wbmc_WC1BbXotQWxnb3JpdGhtPUFXUzQtSE1BQy1TSEEyNTYmWC1BbXotQ3JlZGVudGlhbD1BS0lBVkNPRFlMU0E1M1BRSzRaQSUyRjIwMjQwNTA3JTJGdXMtZWFzdC0xJTJGczMlMkZhd3M0X3JlcXVlc3QmWC1BbXotRGF0ZT0yMDI0MDUwN1QwNDM5MDlaJlgtQW16LUV4cGlyZXM9MzAwJlgtQW16LVNpZ25hdHVyZT0zNmI4MDRlNjRiNGYwMTEyMzRlYjU2NWE1NzYxOGMyNjQ5M2U5ZmRlZTA0N2U3ZjA2ZjViZDE1NDEzNGFkMzg5JlgtQW16LVNpZ25lZEhlYWRlcnM9aG9zdCZhY3Rvcl9pZD0wJmtleV9pZD0wJnJlcG9faWQ9MCJ9.3jJ2ZMvkn3IR7TCZCukdl0Yksb8kcdqmrVEswfAQ2jg)\n",
    "\n",
    "In VSCode using Debugger, show a list as extracted from database as Python objects.\n",
    "[objects2](https://private-user-images.githubusercontent.com/113000838/327187274-04e18fce-9e70-480d-bf01-95012a08b064.png?jwt=eyJhbGciOiJIUzI1NiIsInR5cCI6IkpXVCJ9.eyJpc3MiOiJnaXRodWIuY29tIiwiYXVkIjoicmF3LmdpdGh1YnVzZXJjb250ZW50LmNvbSIsImtleSI6ImtleTUiLCJleHAiOjE3MTUwNTcwNDksIm5iZiI6MTcxNTA1Njc0OSwicGF0aCI6Ii8xMTMwMDA4MzgvMzI3MTg3Mjc0LTA0ZTE4ZmNlLTllNzAtNDgwZC1iZjAxLTk1MDEyYTA4YjA2NC5wbmc_WC1BbXotQWxnb3JpdGhtPUFXUzQtSE1BQy1TSEEyNTYmWC1BbXotQ3JlZGVudGlhbD1BS0lBVkNPRFlMU0E1M1BRSzRaQSUyRjIwMjQwNTA3JTJGdXMtZWFzdC0xJTJGczMlMkZhd3M0X3JlcXVlc3QmWC1BbXotRGF0ZT0yMDI0MDUwN1QwNDM5MDlaJlgtQW16LUV4cGlyZXM9MzAwJlgtQW16LVNpZ25hdHVyZT02Y2YzZTg2ZDAyYzM5MTM5ZTJiMDk2ZDRkOTg5NDdiZTEyZDMxZTZlOTlmMjgxMThlMTRmOGE0Yjg1ODViMTkyJlgtQW16LVNpZ25lZEhlYWRlcnM9aG9zdCZhY3Rvcl9pZD0wJmtleV9pZD0wJnJlcG9faWQ9MCJ9.k8DJtQXKdCS8Zb-HqV4GV1PfjXLEH2vSz2mxlUGl-BI)\n",
    "\n"
   ]
  },
  {
   "cell_type": "markdown",
   "metadata": {},
   "source": [
    "Frontend:\n",
    "\n",
    " Blog JavaScript API fetch code and formatting code to display JSON.\n",
    " [fetch.png](https://cdn.discordapp.com/attachments/909310030413697024/1237573423782170734/image.png?ex=663c2391&is=663ad211&hm=8715640818a1a75807958b32ccdba7ff85482f54fffe78928aa2280eb0190549&)\n",
    " Show response of JSON objects from fetch of GET, POST, and UPDATE methods in Chrome inspect.\n",
    " [post.png](https://cdn.discordapp.com/attachments/909310030413697024/1237574166828552252/image.png?ex=663c2442&is=663ad2c2&hm=eb52cac9a235835004d27bee0f8df469e7c4054af56a4c8f54a1b9cbe407f135&)\n",
    " [get.png](https://cdn.discordapp.com/attachments/909310030413697024/1237574600544616539/image.png?ex=663c24a9&is=663ad329&hm=76b76f690d3e48f2119adebb430f9a29af3c43c4790f154cc27a89db400d13f9&)\n",
    " [update.png](https://cdn.discordapp.com/attachments/909310030413697024/1237574820024291453/image.png?ex=663c24de&is=663ad35e&hm=ba2e836c18ccc9923f91677638e57c60d28cc0b62ede34a078de3cbd3d6852f0&)\n",
    " Show a demo (GET) of obtaining an Array of JSON objects that are formatted into the browsers screen in the Chrome browser.\n",
    " [table.png](https://cdn.discordapp.com/attachments/909310030413697024/1237575402046885898/image.png?ex=663c2568&is=663ad3e8&hm=d04ed5eafa9f4f0db9686840fe0779da8f9150e3a16c98b238eff8bda1bcb969&)\n",
    " Describe fetch and method that obtained the Array of JSON objects in JavaScript code.\n",
    "   \n",
    "  - The fetch(submitTaskUrl, submitTaskHeader) function initiates a request to the backend server at http://127.0.0.1:8010, appending /api/task/authenticate to the base URL to carry out user authentication. Upon successful authentication, users are granted access to the system and redirected to a web page that displays the user database. For the retrieval of the actual user data in JSON format, the function calls http://127.0.0.1:8010/api/task/. Once this data is obtained through a second fetch operation, it is organized into an HTML table format on the browser, presenting the information in a structured manner similar to an SQLite database table.\n",
    "\n",
    " Show code that performs iteration and formatting of data into HTML in JavaScript code.\n",
    "[sortable](https://cdn.discordapp.com/attachments/909310030413697024/1237577406420877352/image.png?ex=663c2746&is=663ad5c6&hm=f58c53aa96d37fd235f112a39f567a167649859bd5cd50213d1720744ed509c7&)\n",
    " Show a demo (POST or UPDATE) gathering and sending input and receiving a response that show update. Repeat this demo showing both success and failure in the Chrome browser.\n",
    " [failure](https://sris126.github.io/student/images/z21.png)\n",
    " [success](https://media.discordapp.net/attachments/909310030413697024/1237576674199994388/image.png?ex=663c2698&is=663ad518&hm=5f2a8ffda32e0377dd791eec97130a6fdc51d75e609bad940b2c389ae2410e90&=&format=webp&quality=lossless)\n",
    " Show and describe code that handles success. Describe how code shows success to the user in the Chrome Browser screen in JavaScript code.\n",
    "[success](https://media.discordapp.net/attachments/909310030413697024/1237577016413519924/image.png?ex=663c26e9&is=663ad569&hm=2438d0d2375cd42c4f1d0878ec48801e852b7d542b207649cb31562934b97690&=&format=webp&quality=lossless)\n",
    " Show and describe code that handles failure. Describe how the code shows failure to the user in the Chrome Browser screen in JavaScript code.\n",
    " [failure](https://cdn.discordapp.com/attachments/909310030413697024/1237577186471317565/image.png?ex=663c2712&is=663ad592&hm=9f0d05a43d5d8d8416b7034c8e60cbba2e1b3fac0e5c1ccbc4a2a683dc7a26ba&)"
   ]
  }
 ],
 "metadata": {
  "language_info": {
   "name": "python"
  }
 },
 "nbformat": 4,
 "nbformat_minor": 2
}
