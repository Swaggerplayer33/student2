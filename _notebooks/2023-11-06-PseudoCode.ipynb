{
 "cells": [
  {
   "cell_type": "markdown",
   "metadata": {},
   "source": [
    "---\n",
    "toc: true\n",
    "comments: true\n",
    "layout: post\n",
    "title: Pseudocode\n",
    "description: My Pseudocode Reflections\n",
    "type: hacks\n",
    "courses: {compsci: {week: 9}}\n",
    "---"
   ]
  },
  {
   "cell_type": "markdown",
   "metadata": {},
   "source": [
    "**Here are the things I learned in trimester 1 about pseudo code:**\n",
    "\n",
    "Keywords are uppercase in pseudocode\n",
    "\n",
    "a ← 2 is the same as a = 2, There is an arrowkey instead of an equal sign\n",
    "\n",
    "DISPLAY(\"YOURMESSAGE\") is the way to print something.\n",
    "\n",
    "REPEAT n TIMES\n",
    "{\n",
    "(block of statements)\n",
    "}\n",
    "translates to in python\n",
    "for i in range(n):\n",
    "(block of statements)\n",
    "\n",
    "Collegeboard Pseudocode uses a REPEAT UNTIL loop, whereas Python uses a while loop. The difference is that UNTIL runs the loop until a condition is met, but a while loop runs the loop while the condition is true. They are kind of opposites.\n",
    "\n",
    "PROCEDURE procName(parameter1, parameter2, ...)\n",
    "{\n",
    "(your code)\n",
    "}\n",
    "translates to in python\n",
    "def functionName(parameter1, parameter2):\n",
    "(block of statements)\n",
    "\n"
   ]
  }
 ],
 "metadata": {
  "language_info": {
   "name": "python"
  },
  "orig_nbformat": 4
 },
 "nbformat": 4,
 "nbformat_minor": 2
}
