{
 "cells": [
  {
   "cell_type": "markdown",
   "metadata": {},
   "source": [
    "---\n",
    "toc: true\n",
    "comments: true\n",
    "layout: post\n",
    "title: Front End Features\n",
    "description: These are all of my front end features\n",
    "type: tangibles\n",
    "courses: {compsci: {week: 9}}\n",
    "---"
   ]
  },
  {
   "cell_type": "markdown",
   "metadata": {},
   "source": [
    "These are all of my front end features for our car rental project. My main features were the cursor tracker, adding cars to the website, and the search bar (my best feature):"
   ]
  },
  {
   "cell_type": "code",
   "execution_count": null,
   "metadata": {},
   "outputs": [],
   "source": [
    "#My Search Feature"
   ]
  },
  {
   "cell_type": "code",
   "execution_count": null,
   "metadata": {},
   "outputs": [],
   "source": [
    "<script> //Search Bar\n",
    "function searchCars() {\n",
    "    var input, filter, carContainers, car, carName, i, txtValue;\n",
    "    input = document.getElementById(\"search\");\n",
    "    filter = input.value.toUpperCase();\n",
    "    carContainers = document.querySelectorAll('.car-container');\n",
    "\n",
    "    for (i = 0; i < carContainers.length; i++) {\n",
    "        car = carContainers[i].querySelectorAll('.car'); // Find cars within each container\n",
    "        for (var j = 0; j < car.length; j++) {\n",
    "            carName = car[j].querySelector('h2');\n",
    "            txtValue = carName.textContent || carName.innerText;\n",
    "\n",
    "            if (txtValue.toUpperCase().indexOf(filter) > -1) {\n",
    "                car[j].style.display = \"block\"; // Show the car listing\n",
    "            } else {\n",
    "                car[j].style.display = \"none\"; // Hide the car listing\n",
    "            }\n",
    "        }\n",
    "    }\n",
    "}\n",
    "</script>"
   ]
  },
  {
   "cell_type": "code",
   "execution_count": null,
   "metadata": {},
   "outputs": [],
   "source": [
    "#The cursor\n",
    "\n",
    "   <div class=\"custom-cursor\"></div>\n",
    "    <script>\n",
    "        const cursor = document.querySelector('.custom-cursor');\n",
    "\n",
    "        document.addEventListener('mousemove', (e) => {\n",
    "            cursor.style.left = e.pageX + 'px';\n",
    "            cursor.style.top = e.pageY + 'px';\n",
    "        });\n",
    "        \n",
    "    </script>\n",
    "    <script src=\"script.js\"></script>"
   ]
  },
  {
   "cell_type": "code",
   "execution_count": null,
   "metadata": {},
   "outputs": [],
   "source": [
    "#The Car listing feature:\n",
    "\n",
    "    <div class=\"car-container\">\n",
    "        <div class=\"car\"> <!--Bugatti Chiron-->\n",
    "            <div class=\"car-attributes\">\n",
    "                <span class=\"attribute-tag sedan\" data-tooltip=\"This car is a sedan.\">Sedan</span>\n",
    "                <span class=\"attribute-tag city\" data-tooltip=\"Great for city driving.\">City</span>\n",
    "            </div>\n",
    "            <img class=\"image\" src=\"https://hips.hearstapps.com/hmg-prod/images/bugatti-sur-mesure-chiron-pur-sport-106-1639069047.jpg?crop=0.766xw:0.647xh;0.234xw,0.353xh&resize=1200:*\" alt=\"Buggati Chiron\" width=\"600\" height=\"400\">\n",
    "            <h2>Bugatti Chiron</h2>\n",
    "            <p>Price: $1000/hour</p>\n",
    "            <p>$4000/day<p>\n",
    "            <a class=\"button-link\" href=\"rent.html?carName=Bugatti%20Chiron&pricePerHour=1000&pricePerDay=4000\">Rent Now</a>\n",
    "            <a class=\"button-link\" href=\"http://127.0.0.1:5500/Car.website/car-info.html?carName=Chiron\">Info</a>\n",
    "        </div>\n",
    "        <div class=\"car\"> <!--Tesla Roadster-->\n",
    "            <div class=\"car-attributes\">\n",
    "                <span class=\"attribute-tag sedan\" data-tooltip=\"This car is a sedan.\">Sedan</span>\n",
    "            </div>\n",
    "            <img class=\"image\" src=\"https://hips.hearstapps.com/hmg-prod/amv-prod-cad-assets/wp-content/uploads/2017/11/Tesla-Roadster-103.jpg\" alt=\"Tesla Roadster\" width=\"600\" height=\"400\">\n",
    "            <h2>Tesla Roadster</h2>\n",
    "            <p>Price: $400/hour</p>\n",
    "            <p>$2000/day<p>\n",
    "            <a class=\"button-link\" href=\"rent.html?carName=Tesla%20Roadster&pricePerHour=400&pricePerDay=2000\">Rent Now</a>\n",
    "            <a class=\"button-link\" href=\"http://127.0.0.1:5500/Car.website/car-info.html?carName=Roadster\">Info</a>\n",
    "        </div>\n",
    "    </div>"
   ]
  }
 ],
 "metadata": {
  "kernelspec": {
   "display_name": "Python 3",
   "language": "python",
   "name": "python3"
  },
  "language_info": {
   "name": "python",
   "version": "3.9.2"
  },
  "orig_nbformat": 4
 },
 "nbformat": 4,
 "nbformat_minor": 2
}
