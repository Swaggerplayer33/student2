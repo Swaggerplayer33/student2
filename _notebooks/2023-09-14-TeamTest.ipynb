{
 "cells": [
  {
   "cell_type": "markdown",
   "metadata": {},
   "source": [
    "---\n",
    "toc: true\n",
    "comments: true\n",
    "Title: Code for Team test\n",
    "description: Code for the team test\n",
    "layout: post\n",
    "type: tangibles\n",
    "courses: {compsci: {week: 4}}\n",
    "---\n",
    "\n",
    "This code should have: \n",
    "- Program with Output\n",
    "- Program with Input and Output\n",
    "- Program with a List\n",
    "- Program with a Dictionary"
   ]
  },
  {
   "cell_type": "code",
   "execution_count": 1,
   "metadata": {},
   "outputs": [
    {
     "name": "stdout",
     "output_type": "stream",
     "text": [
      "{'Age: 15 ', 'Interest: Cars ', 'Name: Sai '}\n"
     ]
    }
   ],
   "source": [
    "Sai = {\n",
    "    \"Name: Sai \",\n",
    "    \"Age: 15 \",\n",
    "    \"Interest: Cars \"\n",
    "    }\n",
    "AdityaD = {\n",
    "    \"Name: Aditya D\",\n",
    "    \"Age: 15\", \n",
    "    \"Interest: Soccer\"\n",
    "    }\n",
    "Timo = {\n",
    "    \"Name: Timo\", \n",
    "    \"Age: 15\", \n",
    "    \"Interest: Wrestling\"\n",
    "    }\n",
    "AdityaR = {\n",
    "    \"Name: Aditya R\",\n",
    "    \"Age: 15\",\n",
    "    \"Interest: Lego\"\n",
    "    }\n",
    "Tanav = {\n",
    "    \"Name: Tanav \",\n",
    "    \"Age, 15 \",\n",
    "    \"Interest: Rockets \"\n",
    "    }\n",
    "#These are all of our group members. A list is created for each member to store charactes\n",
    "\n",
    "people = []\n",
    "people.append(Sai)\n",
    "people.append(AdityaD)\n",
    "people.append(Timo)\n",
    "people.append(AdityaR)\n",
    "people.append(Tanav)\n",
    "#I am adding each person's list to a dictionary\n",
    "\n",
    "who = str(input(\"Would you like to learn more about Sai, Aditya D, Aditya R, Timo, or Tanav: \"))\n",
    "\n",
    "if who == \"Sai\":\n",
    "    print(people[0])\n",
    "elif who == \"Aditya D\":\n",
    "    print(people[1])\n",
    "elif who == \"Timo\":\n",
    "    print(people[2])\n",
    "elif who == \"Aditya R\":\n",
    "    print(people[-2])\n",
    "elif who == \"Tanav\":\n",
    "    print(people[-1])"
   ]
  }
 ],
 "metadata": {
  "kernelspec": {
   "display_name": "Python 3",
   "language": "python",
   "name": "python3"
  },
  "language_info": {
   "codemirror_mode": {
    "name": "ipython",
    "version": 3
   },
   "file_extension": ".py",
   "mimetype": "text/x-python",
   "name": "python",
   "nbconvert_exporter": "python",
   "pygments_lexer": "ipython3",
   "version": "3.9.2"
  },
  "orig_nbformat": 4
 },
 "nbformat": 4,
 "nbformat_minor": 2
}
